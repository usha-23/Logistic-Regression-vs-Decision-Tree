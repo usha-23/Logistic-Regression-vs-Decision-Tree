{
 "cells": [
  {
   "cell_type": "code",
   "execution_count": 7,
   "metadata": {},
   "outputs": [
    {
     "name": "stdout",
     "output_type": "stream",
     "text": [
      "['female' 'male' 'female' 'male' 'female' 'female' 'female' 'female'\n",
      " 'male']\n",
      "['male', 'male', 'famale', 'female', 'female', 'female', 'female', 'male', 'male']\n",
      "5\n",
      "9\n"
     ]
    },
    {
     "data": {
      "text/plain": [
       "0.5555555555555556"
      ]
     },
     "execution_count": 7,
     "metadata": {},
     "output_type": "execute_result"
    }
   ],
   "source": [
    "from sklearn import tree\n",
    "\n",
    "clf = tree.DecisionTreeClassifier()\n",
    "\n",
    "# [height, weight, shoe_size]\n",
    "X_train = [[181,80,44],[181, 80, 44],[177,70,43], [160, 60, 38],]\n",
    "   [154, 54, 37], [166, 65, 40],\n",
    "     [190, 90, 47], [175, 64, 39],\n",
    "    [177, 70, 40], [159, 55, 37], [171, 75, 42], [181, 85, 43]]\n",
    "\n",
    "Y_train = ['female','male','male', 'female']#, 'female', 'male', 'male', 'female', 'female',\n",
    "    # 'female', 'male', 'male']\n",
    "X_test = [[181,80,44],[177, 80, 43],[180,80,44],[177,70,43], [160, 60, 38], [154, 54, 37], [166, 65, 40],\n",
    "     [190, 90, 47], [175, 64, 39],\n",
    "     ]\n",
    "expected = ['male', 'male','famale','female', 'female', 'female', \n",
    "     'female', 'male', 'male']\n",
    "\n",
    "clf = clf.fit(X_train, Y_train)\n",
    "\n",
    "predicted = clf.predict(X_test)\n",
    "\n",
    "print(predicted)\n",
    "print(expected)\n",
    "matches = (predicted == expected)\n",
    "print(matches.sum())\n",
    "\n",
    "print(len(matches))\n",
    "\n",
    "matches.sum() / float(len(matches))"
   ]
  },
  {
   "cell_type": "code",
   "execution_count": 8,
   "metadata": {},
   "outputs": [],
   "source": [
    "from sklearn.linear_model import LogisticRegression"
   ]
  },
  {
   "cell_type": "code",
   "execution_count": 9,
   "metadata": {},
   "outputs": [
    {
     "name": "stdout",
     "output_type": "stream",
     "text": [
      "['female' 'male' 'female' 'male' 'female' 'female' 'female' 'female'\n",
      " 'female']\n",
      "['male', 'male', 'famale', 'female', 'female', 'female', 'female', 'male', 'male']\n",
      "4\n",
      "9\n"
     ]
    },
    {
     "data": {
      "text/plain": [
       "0.4444444444444444"
      ]
     },
     "execution_count": 9,
     "metadata": {},
     "output_type": "execute_result"
    }
   ],
   "source": [
    "X_train = [[181,80,44],[181, 80, 44],[177,70,43], [160, 60, 38],]\n",
    "   [154, 54, 37], [166, 65, 40],\n",
    "     [190, 90, 47], [175, 64, 39],\n",
    "     [177, 70, 40], [159, 55, 37], [171, 75, 42], [181, 85, 43]]\n",
    "\n",
    "Y_train = ['female','male','male', 'female']#, 'female', 'male', 'male', 'female', 'female',\n",
    "    # 'female', 'male', 'male']\n",
    "X_test = [[181,80,44],[177, 80, 43],[180,80,44],[177,70,43], [160, 60, 38], [154, 54, 37], [166, 65, 40],\n",
    "     [190, 90, 47], [175, 64, 39],\n",
    "     ]\n",
    "expected = ['male', 'male','famale','female', 'female', 'female', \n",
    "     'female', 'male', 'male']\n",
    "\n",
    "clf = clf.fit(X_train, Y_train)\n",
    "\n",
    "predicted = clf.predict(X_test)\n",
    "\n",
    "print(predicted)\n",
    "print(expected)\n",
    "\n",
    "\n",
    "matches = (predicted == expected)\n",
    "print(matches.sum())\n",
    "\n",
    "print(len(matches))\n",
    "\n",
    "matches.sum() / float(len(matches))"
   ]
  },
  {
   "cell_type": "code",
   "execution_count": null,
   "metadata": {},
   "outputs": [],
   "source": []
  }
 ],
 "metadata": {
  "kernelspec": {
   "display_name": "Python 3",
   "language": "python",
   "name": "python3"
  },
  "language_info": {
   "codemirror_mode": {
    "name": "ipython",
    "version": 3
   },
   "file_extension": ".py",
   "mimetype": "text/x-python",
   "name": "python",
   "nbconvert_exporter": "python",
   "pygments_lexer": "ipython3",
   "version": "3.7.3"
  }
 },
 "nbformat": 4,
 "nbformat_minor": 2
}
